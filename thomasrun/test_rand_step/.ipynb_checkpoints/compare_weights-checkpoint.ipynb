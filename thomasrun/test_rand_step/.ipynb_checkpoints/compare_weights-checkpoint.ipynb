{
 "cells": [
  {
   "cell_type": "code",
   "execution_count": 1,
   "metadata": {},
   "outputs": [],
   "source": [
    "import numpy as np\n",
    "import matplotlib.pyplot as plt\n",
    "import os\n",
    "import time"
   ]
  },
  {
   "cell_type": "code",
   "execution_count": 2,
   "metadata": {},
   "outputs": [],
   "source": [
    "Amax = 9 #Generated trajectories with an Amax of 9\n",
    "random_walks = np.loadtxt(\"rand_traj/good_random_traj_\"+str(Amax)+\".txt\", dtype=int,skiprows=1)"
   ]
  },
  {
   "cell_type": "markdown",
   "metadata": {},
   "source": [
    "Our weights depend on where you are, where you're going to, how many copies of the multiplet you have, and how far along in the walk you are (number of gluons added --> a)"
   ]
  },
  {
   "cell_type": "code",
   "execution_count": 3,
   "metadata": {},
   "outputs": [],
   "source": [
    "possible_a = np.array(range(1,Amax)) #not interested in a=0 since that's constrained to always go to (1,1)\n",
    "possible_p = np.array(range(np.amax(random_walks[:,1])+1))\n",
    "possible_q = np.array(range(np.amax(random_walks[:,2])+1))\n",
    "possible_n = np.array(range(np.amax(random_walks[:,3])+1))"
   ]
  },
  {
   "cell_type": "code",
   "execution_count": 4,
   "metadata": {},
   "outputs": [
    {
     "data": {
      "text/plain": [
       "'for a in possible_a:\\n    error_array[num_iter,0] = a\\n    \\n    for p in possible_p:\\n       \\n        error_array[num_iter,1] = p\\n        \\n        for q in possible_q:\\n            \\n            error_array[num_iter,2] = q\\n        \\n            for n in possible_n:\\n                \\n                error_array[num_iter,3] = n\\n                \\n                matching_indicies = []\\n                mask = (random_walks[:,0] == a) & (random_walks[:,1] == p) & (random_walks[:,2] == q) & (random_walks[:,3] == n)\\n                for i in range(mask.size):\\n                    if mask[i] == True:\\n                        matching_indicies.append(i)\\n                if (len(matching_indicies) == 0):\\n                    error_array[num_iter,4] = -1\\n                    \\n                num_iter += 1\\n                #bar.update(num_iter)\\n'"
      ]
     },
     "execution_count": 4,
     "metadata": {},
     "output_type": "execute_result"
    }
   ],
   "source": [
    "#bar = progressbar.ProgressBar(maxval=1323,widgets=[progressbar.Bar('=', '[', ']'), ' ', progressbar.Percentage()])\n",
    "#bar.start()\n",
    "#s = time.time()\n",
    "\n",
    "\n",
    "total_combinations = possible_a.size * possible_p.size * possible_q.size * possible_n.size\n",
    "error_array = np.zeros((total_combinations, 5))\n",
    "\n",
    "\"\"\"for a in possible_a:\n",
    "    error_array[num_iter,0] = a\n",
    "    \n",
    "    for p in possible_p:\n",
    "       \n",
    "        error_array[num_iter,1] = p\n",
    "        \n",
    "        for q in possible_q:\n",
    "            \n",
    "            error_array[num_iter,2] = q\n",
    "        \n",
    "            for n in possible_n:\n",
    "                \n",
    "                error_array[num_iter,3] = n\n",
    "                \n",
    "                matching_indicies = []\n",
    "                mask = (random_walks[:,0] == a) & (random_walks[:,1] == p) & (random_walks[:,2] == q) & (random_walks[:,3] == n)\n",
    "                for i in range(mask.size):\n",
    "                    if mask[i] == True:\n",
    "                        matching_indicies.append(i)\n",
    "                if (len(matching_indicies) == 0):\n",
    "                    error_array[num_iter,4] = -1\n",
    "                    \n",
    "                num_iter += 1\n",
    "                #bar.update(num_iter)\n",
    "\"\"\"\n",
    "#e=time.time()\n",
    "#bar.finish()\n",
    "#print(str(np.round(e-s,2))+\" seconds\")"
   ]
  },
  {
   "cell_type": "code",
   "execution_count": 29,
   "metadata": {},
   "outputs": [
    {
     "name": "stdout",
     "output_type": "stream",
     "text": [
      "{(0, 0): 0.03402259364471125, (1, 1): 0.37101142894895744, (3, 0): 0.15954284204268385, (0, 3): 0.14877452599591015, (2, 2): 0.28664860936779174}\n",
      "0.18 seconds\n"
     ]
    }
   ],
   "source": [
    "start = time.time()\n",
    "\n",
    "dp = [2, 1, 0, -1, -2, 1, -1]\n",
    "dq = [-1, 1, 0, 2, 1, -2, -1]\n",
    "\n",
    "def get_good_pq(p_given,q_given,delta_p,delta_q,maxval):\n",
    "    good_pq = []\n",
    "    for i in range(len(dp)):\n",
    "        p_new = p_given - delta_p[i];\n",
    "        q_new = q_given - delta_q[i];\n",
    "        \n",
    "        if ((p_new >= 0) & (q_new >= 0) & (p_new <= maxval) & (q_new <= maxval)):\n",
    "            good_pq.append((p_new,q_new))\n",
    "    return good_pq\n",
    "\n",
    "num_iter = 0\n",
    "\n",
    "a = 1\n",
    "p = 1\n",
    "q = 1\n",
    "n = 1\n",
    "\n",
    "error_array[num_iter,4] = 0\n",
    "\n",
    "#this block of code finds where this combination of variables appears in our random walks\n",
    "matching_indicies = []\n",
    "mask = (random_walks[:,0] == a) & (random_walks[:,1] == p) & (random_walks[:,2] == q) & (random_walks[:,3] == n)\n",
    "for i in range(mask.size): \n",
    "    if mask[i] == True:\n",
    "        matching_indicies.append(i)\n",
    "    \n",
    "if (len(matching_indicies) == 0): #if there are no instances of this combination, make a 'note' of that to throw\n",
    "    error_array[num_iter,4] = -1  #it out later\n",
    "      \n",
    "\n",
    "goodpq = get_good_pq(p,q,dp,dq,np.amax(possible_p)) #grab the possible multiplets we can jumpt too\n",
    "number_events = [0]*len(goodpq)                     #a place to store how many times that jump is made\n",
    "random_events_weights_dict = dict(zip(goodpq,number_events))#dictionary to treat these as one object\n",
    "\n",
    "for k in matching_indicies:     #find how many times each \"jump\" was made\n",
    "    p_next, q_next = random_walks[k+1,1], random_walks[k+1,2]\n",
    "    random_events_weights_dict[(p_next,q_next)] += 1./len(matching_indicies)\n",
    "\n",
    "print(random_events_weights_dict)\n",
    "\n",
    "\n",
    "os.system(\"./calc_test_weight \"+str(a)+\" \"+str(p)+\" \"+str(q)+\" \"+str(n)+\" \"+str(Amax))\n",
    "\n",
    "end = time.time()\n",
    "print(str(np.round(end-start,2)) + \" seconds\")"
   ]
  },
  {
   "cell_type": "code",
   "execution_count": null,
   "metadata": {},
   "outputs": [],
   "source": []
  }
 ],
 "metadata": {
  "kernelspec": {
   "display_name": "Python 3",
   "language": "python",
   "name": "python3"
  },
  "language_info": {
   "codemirror_mode": {
    "name": "ipython",
    "version": 3
   },
   "file_extension": ".py",
   "mimetype": "text/x-python",
   "name": "python",
   "nbconvert_exporter": "python",
   "pygments_lexer": "ipython3",
   "version": "3.6.9"
  }
 },
 "nbformat": 4,
 "nbformat_minor": 2
}
