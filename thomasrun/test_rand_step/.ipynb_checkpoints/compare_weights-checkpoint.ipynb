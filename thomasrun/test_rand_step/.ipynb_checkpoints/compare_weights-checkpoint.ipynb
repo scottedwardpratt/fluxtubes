{
 "cells": [
  {
   "cell_type": "markdown",
   "metadata": {},
   "source": [
    "# Comparing Weights"
   ]
  },
  {
   "cell_type": "markdown",
   "metadata": {},
   "source": [
    "This program analyzes whether there is a difference between the likehlihood of a given step taken by the Trajectory object (which has designed the weights to return it's walker back to the original position) and the \"natural\" likelihood calculated by performing many truly random walks that just happen to return to their original position.  \n",
    "I chose to use Amax = 9 since it's small\n",
    "10^8 random walks were generated and their values of p,q, and n at each timestep a were saved in a text file.  \n",
    "The theoretical weights for each a,p,q,n, and Amax are stored in a directory near here.  \n",
    "This program finds the average absolute for each value of (a,p,q,n) and stores that in an array.  \n",
    "It visualizes the errors with some histograms at the end."
   ]
  },
  {
   "cell_type": "code",
   "execution_count": 10,
   "metadata": {},
   "outputs": [],
   "source": [
    "import numpy as np\n",
    "import matplotlib.pyplot as plt\n",
    "import time\n",
    "import progressbar\n",
    "import os"
   ]
  },
  {
   "cell_type": "code",
   "execution_count": 14,
   "metadata": {},
   "outputs": [],
   "source": [
    "Amax = 9 #Generated trajectories with an Amax of 9\n",
    "random_walks = np.loadtxt(\"rand_traj/good_random_traj_\"+str(Amax)+\".txt\", dtype=int,skiprows=1)"
   ]
  },
  {
   "cell_type": "markdown",
   "metadata": {},
   "source": [
    "Our weights depend on where you are, where you're going to, how many copies of the multiplet you have, and how far along in the walk you are (number of gluons added --> a). These are all the possible values we can iterate over, most of them will be thrown out."
   ]
  },
  {
   "cell_type": "code",
   "execution_count": 46,
   "metadata": {},
   "outputs": [],
   "source": [
    "possible_a = np.array(range(1,Amax)) #not interested in a=0 since that's constrained to always go to (1,1)\n",
    "possible_p = np.array(range(np.amax(random_walks[:,1])+1))\n",
    "possible_q = np.array(range(np.amax(random_walks[:,2])+1))\n",
    "possible_n = np.array(range(1,np.amax(random_walks[:,3])+1))\n",
    "\n",
    "dp = [2, 1, 0, -1, -2, 1, -1]\n",
    "dq = [-1, 1, 0, 2, 1, -2, -1] #used for finding possible multiplets"
   ]
  },
  {
   "cell_type": "markdown",
   "metadata": {},
   "source": [
    "It's regrettable, but i couldn't find good way to get the Tpqlist object in a format python can understand.  \n",
    "Thus, we need to recalculate what multiplets are allowed."
   ]
  },
  {
   "cell_type": "code",
   "execution_count": 27,
   "metadata": {},
   "outputs": [],
   "source": [
    "def get_good_pq(p_given,q_given,delta_p,delta_q,maxval):\n",
    "    \n",
    "    #function for finding the allowed multiplets to jump too\n",
    "    \n",
    "    good_pq = []\n",
    "    for i in range(len(dp)):\n",
    "        p_new = p_given - delta_p[i];\n",
    "        q_new = q_given - delta_q[i];\n",
    "        \n",
    "        if ((p_new >= 0) & (q_new >= 0) & (p_new <= maxval) & (q_new <= maxval)):\n",
    "            good_pq.append((p_new,q_new))\n",
    "    return good_pq"
   ]
  },
  {
   "cell_type": "markdown",
   "metadata": {},
   "source": [
    "This is the bulk of the code.  \n",
    "It's purpose is describe at the top and details are in the comments, but I want to make a note of three possible error values:  \n",
    "If errror = -1, then it comes from an \"impossible\" configuration of (p,q) and it will be thrown out, or the boring one (0,0), and \n"
   ]
  },
  {
   "cell_type": "code",
   "execution_count": 43,
   "metadata": {},
   "outputs": [
    {
     "name": "stderr",
     "output_type": "stream",
     "text": [
      "[========================================================================] 100%\r"
     ]
    },
    {
     "name": "stdout",
     "output_type": "stream",
     "text": [
      "159.52 seconds\n"
     ]
    },
    {
     "name": "stderr",
     "output_type": "stream",
     "text": [
      "\n"
     ]
    }
   ],
   "source": [
    "total_combinations = possible_a.size * possible_p.size * possible_q.size * possible_n.size\n",
    "error_array = np.zeros((total_combinations, 5))\n",
    "\n",
    "bar = progressbar.ProgressBar(maxval=total_combinations,widgets=[progressbar.Bar('=', '[', ']'), ' ', progressbar.Percentage()])\n",
    "bar.start()\n",
    "s = time.time()\n",
    "\n",
    "num_iter = 0\n",
    "\n",
    "#iterating over all possible values:\n",
    "for a in possible_a:    \n",
    "    for p in possible_p:       \n",
    "        for q in possible_q:\n",
    "            for n in possible_n:\n",
    "        \n",
    "                error_array[num_iter,0],error_array[num_iter,1],error_array[num_iter,2],error_array[num_iter,3] = a,p,q,n         \n",
    "                \n",
    "                #(0,0) is predetermined, so we're skipping it\n",
    "                if (p==0)&(q==0):\n",
    "                    error_array[num_iter,4] = -1\n",
    "                    num_iter +=1\n",
    "                    bar.update(num_iter)\n",
    "                    continue                \n",
    "                \n",
    "                #this block of code finds where this combination of variables appears in our random walks\n",
    "                matching_indicies = []\n",
    "                mask = (random_walks[:,0] == a) & (random_walks[:,1] == p) & (random_walks[:,2] == q) & (random_walks[:,3] == n)\n",
    "                for i in range(mask.size): \n",
    "                    if mask[i] == True:\n",
    "                        matching_indicies.append(i)\n",
    "    \n",
    "                if (len(matching_indicies) == 0): #if there are no instances of this combination, make a 'note' of that to throw\n",
    "                    error_array[num_iter,4] = -2  #it out later\n",
    "                    num_iter += 1\n",
    "                    bar.update(num_iter)\n",
    "                    continue   \n",
    "\n",
    "                goodpq = get_good_pq(p,q,dp,dq,np.amax(possible_p)) #grab the possible multiplets we can jumpt too\n",
    "                number_events = [0]*len(goodpq)                     #a place to store how many times that jump is made\n",
    "                random_events_weights_dict = dict(zip(goodpq,number_events))#dictionary to treat these as one object\n",
    "\n",
    "                for k in matching_indicies:     #find how many times each \"jump\" was made\n",
    "                    p_next, q_next = random_walks[k+1,1], random_walks[k+1,2]\n",
    "                    random_events_weights_dict[(p_next,q_next)] += 1./len(matching_indicies)\n",
    "                \n",
    "                #grab the weights we calculated\n",
    "                calculated_weights = np.loadtxt(\"/home/thomas/Research/MSU Pratt Project/fluxtubes/thomasrun/test_rand_step/calculated_weights/weights_\"+str(a)+\"_\"+str(p)+\"_\"+str(q)+\"_\"+str(n)+\"_\"+str(Amax)+\"_.txt\",skiprows=1)\n",
    "                \n",
    "                #sometimes, the walker doesn't explore all the possible options\n",
    "                #since we are limited by not taking an hour to run\n",
    "                #so there is a mismatch between the number of calculated and 'true' weights\n",
    "                #we deal with that error here:\n",
    "                if(calculated_weights.shape[0] != len(goodpq)):\n",
    "                    error_array[num_iter,4] = -3\n",
    "                    num_iter +=1\n",
    "                    bar.update(num_iter)\n",
    "                    continue\n",
    "                \n",
    "                #find the absolute error between the calculated and \"real\" weights differ\n",
    "                total_err = 0\n",
    "                for l in range(calculated_weights.shape[0]):\n",
    "                    p_curr = calculated_weights[l,0]\n",
    "                    q_curr = calculated_weights[l,1]\n",
    "                    rel_err = np.abs(calculated_weights[l,2] - random_events_weights_dict[(p_curr,q_curr)])\n",
    "                    total_err += rel_err\n",
    "\n",
    "                average_err = total_err/calculated_weights.shape[0] # calculate the average error\n",
    "                error_array[num_iter,4] = average_err\n",
    "                num_iter +=1\n",
    "                \n",
    "                bar.update(num_iter)\n",
    "\n",
    "e=time.time()\n",
    "bar.finish()\n",
    "print(str(np.round(e-s,2))+\" seconds\")"
   ]
  },
  {
   "cell_type": "code",
   "execution_count": 49,
   "metadata": {},
   "outputs": [
    {
     "name": "stdout",
     "output_type": "stream",
     "text": [
      "[[1.         1.         1.         1.         0.00857795]\n",
      " [2.         0.         3.         1.         0.01924549]\n",
      " [2.         1.         1.         2.         0.0130762 ]\n",
      " [2.         2.         2.         1.         0.01144054]\n",
      " [2.         3.         0.         1.         0.02161265]\n",
      " [3.         0.         3.         1.         0.03244579]\n",
      " [3.         0.         3.         2.         0.0309185 ]\n",
      " [3.         1.         1.         1.         0.01196134]\n",
      " [3.         1.         1.         2.         0.01243417]\n",
      " [3.         1.         4.         1.         0.02314054]\n",
      " [3.         2.         2.         1.         0.02098806]\n",
      " [3.         2.         2.         2.         0.01591515]\n",
      " [3.         3.         0.         1.         0.02142238]\n",
      " [3.         3.         0.         2.         0.02473347]\n",
      " [3.         3.         3.         1.         0.02788399]\n",
      " [3.         4.         1.         1.         0.01837423]\n",
      " [4.         0.         3.         1.         0.02697319]\n",
      " [4.         0.         3.         2.         0.02835007]\n",
      " [4.         1.         1.         1.         0.01500764]\n",
      " [4.         1.         1.         2.         0.02374316]\n",
      " [4.         1.         4.         1.         0.0352521 ]\n",
      " [4.         1.         4.         2.         0.03949752]\n",
      " [4.         2.         2.         1.         0.02240927]\n",
      " [4.         2.         2.         2.         0.02108294]\n",
      " [4.         3.         0.         1.         0.01945634]\n",
      " [4.         3.         0.         2.         0.01787425]\n",
      " [4.         3.         3.         1.         0.03058706]\n",
      " [4.         3.         3.         2.         0.04452669]\n",
      " [4.         4.         1.         1.         0.04172525]\n",
      " [4.         4.         1.         2.         0.05163816]\n",
      " [4.         4.         4.         1.         0.11684153]\n",
      " [5.         0.         3.         1.         0.02937451]\n",
      " [5.         0.         3.         2.         0.03627608]\n",
      " [5.         1.         1.         1.         0.02668804]\n",
      " [5.         1.         1.         2.         0.02156532]\n",
      " [5.         1.         4.         1.         0.0596649 ]\n",
      " [5.         1.         4.         2.         0.04628415]\n",
      " [5.         2.         2.         1.         0.02871916]\n",
      " [5.         2.         2.         2.         0.02614584]\n",
      " [5.         3.         0.         1.         0.04526473]\n",
      " [5.         3.         0.         2.         0.04379786]\n",
      " [5.         3.         3.         1.         0.0508246 ]\n",
      " [5.         3.         3.         2.         0.06333849]\n",
      " [5.         4.         1.         1.         0.04928412]\n",
      " [5.         4.         1.         2.         0.05084656]\n",
      " [5.         4.         4.         1.         0.11428571]\n",
      " [6.         0.         3.         1.         0.05389603]\n",
      " [6.         0.         3.         2.         0.06591487]\n",
      " [6.         1.         1.         1.         0.02940435]\n",
      " [6.         1.         1.         2.         0.02988372]\n",
      " [6.         1.         4.         1.         0.11111117]\n",
      " [6.         1.         4.         2.         0.11111117]\n",
      " [6.         2.         2.         1.         0.05033733]\n",
      " [6.         2.         2.         2.         0.04329014]\n",
      " [6.         3.         0.         1.         0.06186492]\n",
      " [6.         3.         0.         2.         0.05637263]\n",
      " [6.         3.         3.         1.         0.14285729]\n",
      " [6.         3.         3.         2.         0.14285729]\n",
      " [6.         4.         1.         1.         0.11111117]\n",
      " [6.         4.         1.         2.         0.11111117]\n",
      " [7.         0.         3.         1.         0.3       ]\n",
      " [7.         0.         3.         2.         0.3       ]\n",
      " [7.         1.         1.         1.         0.2       ]\n",
      " [7.         1.         1.         2.         0.2       ]\n",
      " [7.         2.         2.         1.         0.19047629]\n",
      " [7.         2.         2.         2.         0.19047629]\n",
      " [7.         3.         0.         1.         0.3       ]\n",
      " [7.         3.         0.         2.         0.3       ]\n",
      " [8.         1.         1.         1.         0.4       ]\n",
      " [8.         1.         1.         2.         0.4       ]]\n"
     ]
    }
   ],
   "source": [
    "valid_error_array = error_array[error_array[:,4]>=0,:] #we consider all our \"valid trajectories\"\n",
    "print(valid_error_array)"
   ]
  },
  {
   "cell_type": "markdown",
   "metadata": {},
   "source": [
    "Analysis shows \"n\" does not appear to have a large impact on the "
   ]
  },
  {
   "cell_type": "code",
   "execution_count": null,
   "metadata": {},
   "outputs": [],
   "source": []
  }
 ],
 "metadata": {
  "kernelspec": {
   "display_name": "Python 3",
   "language": "python",
   "name": "python3"
  },
  "language_info": {
   "codemirror_mode": {
    "name": "ipython",
    "version": 3
   },
   "file_extension": ".py",
   "mimetype": "text/x-python",
   "name": "python",
   "nbconvert_exporter": "python",
   "pygments_lexer": "ipython3",
   "version": "3.7.3"
  }
 },
 "nbformat": 4,
 "nbformat_minor": 2
}
