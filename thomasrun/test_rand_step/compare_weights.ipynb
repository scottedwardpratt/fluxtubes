{
 "cells": [
  {
   "cell_type": "markdown",
   "metadata": {},
   "source": [
    "# Comparing Weights"
   ]
  },
  {
   "cell_type": "markdown",
   "metadata": {},
   "source": [
    "This program analyzes whether there is a difference between the likehlihood of a given step taken by the Trajectory object (which has designed the weights to return it's walker back to the original position) and the \"natural\" likelihood calculated by performing many truly random walks that just happen to return to their original position.  \n",
    "I chose to use Amax = 9 since it's small\n",
    "10^8 random walks were generated and their values of p,q, and n at each timestep a were saved in a text file.  \n",
    "The theoretical weights for each a,p,q,n, and Amax are stored in a directory near here.  \n",
    "This program finds the average absolute for each value of (a,p,q,n) and stores that in an array.  \n",
    "It visualizes the errors with some histograms at the end."
   ]
  },
  {
   "cell_type": "code",
   "execution_count": 1,
   "metadata": {},
   "outputs": [],
   "source": [
    "import numpy as np\n",
    "import matplotlib.pyplot as plt\n",
    "import time\n",
    "import progressbar\n",
    "import os"
   ]
  },
  {
   "cell_type": "code",
   "execution_count": 2,
   "metadata": {},
   "outputs": [],
   "source": [
    "Amax = 9 #Generated trajectories with an Amax of 9\n",
    "random_walks = np.loadtxt(\"rand_traj/good_random_traj_\"+str(Amax)+\".txt\", dtype=int,skiprows=1)"
   ]
  },
  {
   "cell_type": "markdown",
   "metadata": {},
   "source": [
    "Our weights depend on where you are, where you're going to, how many copies of the multiplet you have, and how far along in the walk you are (number of gluons added --> a). These are all the possible values we can iterate over, most of them will be thrown out."
   ]
  },
  {
   "cell_type": "code",
   "execution_count": 3,
   "metadata": {},
   "outputs": [],
   "source": [
    "possible_a = np.array(range(1,Amax)) #not interested in a=0 since that's constrained to always go to (1,1)\n",
    "possible_p = np.array(range(np.amax(random_walks[:,1])+1))\n",
    "possible_q = np.array(range(np.amax(random_walks[:,2])+1))\n",
    "possible_n = np.array(range(1,np.amax(random_walks[:,3])+1))\n",
    "\n",
    "dp = [2, 1, 0, -1, -2, 1, -1]\n",
    "dq = [-1, 1, 0, 2, 1, -2, -1] #used for finding possible multiplets"
   ]
  },
  {
   "cell_type": "markdown",
   "metadata": {},
   "source": [
    "It's regrettable, but i couldn't find good way to get the Tpqlist object in a format python can understand.  \n",
    "Thus, we need to recalculate what multiplets are allowed."
   ]
  },
  {
   "cell_type": "code",
   "execution_count": 7,
   "metadata": {},
   "outputs": [],
   "source": [
    "def get_good_pq(p_given,q_given,delta_p,delta_q,maxval):\n",
    "    \n",
    "    #function for finding the allowed multiplets to jump too\n",
    "    \n",
    "    good_pq = []\n",
    "    for i in range(len(dp)):\n",
    "        p_new = p_given - delta_p[i];\n",
    "        q_new = q_given - delta_q[i];\n",
    "        \n",
    "        if ((p_new >= 0) & (q_new >= 0) & (p_new <= maxval) & (q_new <= maxval)):\n",
    "            good_pq.append((p_new,q_new))\n",
    "    return good_pq"
   ]
  },
  {
   "cell_type": "markdown",
   "metadata": {},
   "source": [
    "This is the bulk of the code.  \n",
    "It's purpose is describe at the top and details are in the comments, but I want to make a note of three possible error values:  \n",
    "An error of -1 comes from (p,q) being the boring one (0,0) which is constrained to always go to (1,1), so we're throwing that out.  \n",
    "If the error is -2, then the configuration of (p,q) being tested doesn't appear in the walks. This means that this isn't a valid configuratiof of (p,q), so this is made a note of to throw out later.\n",
    "An error of -3 comes from if the random walker doesn't find all the possible theoretical (p', q') that one can get to from (p,q). This is possible in some of the rarer multiplets that the walker won't reach often. I don't know how to handle these cases, so they're being thrown out for now."
   ]
  },
  {
   "cell_type": "code",
   "execution_count": 9,
   "metadata": {},
   "outputs": [
    {
     "name": "stderr",
     "output_type": "stream",
     "text": [
      "[========================================================================] 100%\r"
     ]
    },
    {
     "name": "stdout",
     "output_type": "stream",
     "text": [
      "5088.07 seconds\n"
     ]
    },
    {
     "name": "stderr",
     "output_type": "stream",
     "text": [
      "\n"
     ]
    }
   ],
   "source": [
    "total_combinations = possible_a.size * possible_p.size * possible_q.size * possible_n.size\n",
    "error_array = np.zeros((total_combinations, 5))\n",
    "\n",
    "bar = progressbar.ProgressBar(maxval=total_combinations,widgets=[progressbar.Bar('=', '[', ']'), ' ', progressbar.Percentage()])\n",
    "bar.start()\n",
    "s = time.time()\n",
    "\n",
    "num_iter = 0\n",
    "\n",
    "#iterating over all possible values:\n",
    "for a in possible_a:    \n",
    "    for p in possible_p:       \n",
    "        for q in possible_q:\n",
    "            for n in possible_n:\n",
    "        \n",
    "                error_array[num_iter,0],error_array[num_iter,1],error_array[num_iter,2],error_array[num_iter,3] = a,p,q,n         \n",
    "                \n",
    "                #(0,0) is predetermined, so we're skipping it\n",
    "                if (p==0)&(q==0):\n",
    "                    error_array[num_iter,4] = -1\n",
    "                    num_iter +=1\n",
    "                    bar.update(num_iter)\n",
    "                    continue                \n",
    "                \n",
    "                #this block of code finds where this combination of variables appears in our random walks\n",
    "                matching_indicies = []\n",
    "                mask = (random_walks[:,0] == a) & (random_walks[:,1] == p) & (random_walks[:,2] == q) & (random_walks[:,3] == n)\n",
    "                for i in range(mask.size): \n",
    "                    if mask[i] == True:\n",
    "                        matching_indicies.append(i)\n",
    "    \n",
    "                if (len(matching_indicies) == 0): #if there are no instances of this combination, make a 'note' of that to throw\n",
    "                    error_array[num_iter,4] = -2  #it out later\n",
    "                    num_iter += 1\n",
    "                    bar.update(num_iter)\n",
    "                    continue   \n",
    "\n",
    "                goodpq = get_good_pq(p,q,dp,dq,np.amax(possible_p)) #grab the possible multiplets we can jumpt too\n",
    "                number_events = [0]*len(goodpq)                     #a place to store how many times that jump is made\n",
    "                random_events_weights_dict = dict(zip(goodpq,number_events))#dictionary to treat these as one object\n",
    "\n",
    "                for k in matching_indicies:     #find how many times each \"jump\" was made\n",
    "                    p_next, q_next = random_walks[k+1,1], random_walks[k+1,2]\n",
    "                    random_events_weights_dict[(p_next,q_next)] += 1./len(matching_indicies)\n",
    "                \n",
    "                #grab the weights we calculated\n",
    "                calculated_weights = np.loadtxt(\"/home/thomas/Research/MSU Pratt Project/fluxtubes/thomasrun/test_rand_step/calculated_weights/weights_\"+str(a)+\"_\"+str(p)+\"_\"+str(q)+\"_\"+str(n)+\"_\"+str(Amax)+\"_.txt\",skiprows=1)\n",
    "                \n",
    "                #sometimes, the walker doesn't explore all the possible options\n",
    "                #since we are limited by not taking an hour to run\n",
    "                #so there is a mismatch between the number of calculated and 'true' weights\n",
    "                #we deal with that error here:\n",
    "                if(calculated_weights.shape[0] != len(goodpq)):\n",
    "                    error_array[num_iter,4] = -3\n",
    "                    num_iter +=1\n",
    "                    bar.update(num_iter)\n",
    "                    continue\n",
    "                \n",
    "                #find the absolute error between the calculated and \"real\" weights differ\n",
    "                total_err = 0\n",
    "                for l in range(calculated_weights.shape[0]):\n",
    "                    p_curr = calculated_weights[l,0]\n",
    "                    q_curr = calculated_weights[l,1]\n",
    "                    rel_err = np.abs(calculated_weights[l,2] - random_events_weights_dict[(p_curr,q_curr)])\n",
    "                    total_err += rel_err\n",
    "\n",
    "                average_err = total_err/calculated_weights.shape[0] # calculate the average error\n",
    "                error_array[num_iter,4] = average_err\n",
    "                num_iter +=1\n",
    "                \n",
    "                bar.update(num_iter)\n",
    "\n",
    "e=time.time()\n",
    "bar.finish()\n",
    "print(str(np.round(e-s,2))+\" seconds\")"
   ]
  },
  {
   "cell_type": "code",
   "execution_count": 31,
   "metadata": {},
   "outputs": [],
   "source": [
    "valid_error_array = error_array[(error_array[:,4]>=0)&(error_array[:,0]<6),:] #we consider all our \"valid trajectories\""
   ]
  },
  {
   "cell_type": "markdown",
   "metadata": {},
   "source": [
    "Analysis shows \"n\" and a do not appear to have a large impact on the error."
   ]
  },
  {
   "cell_type": "code",
   "execution_count": 44,
   "metadata": {},
   "outputs": [
    {
     "data": {
      "text/plain": [
       "{(0.0, 3.0, 0.028077500929227433),\n",
       " (1.0, 1.0, 0.013966021202842861),\n",
       " (1.0, 4.0, 0.03682998812595111),\n",
       " (2.0, 2.0, 0.0193223307537283),\n",
       " (3.0, 0.0, 0.02969573731235306),\n",
       " (3.0, 3.0, 0.033601285080179205),\n",
       " (4.0, 1.0, 0.037262673316360614),\n",
       " (4.0, 4.0, 0.0915553948557523)}"
      ]
     },
     "execution_count": 44,
     "metadata": {},
     "output_type": "execute_result"
    }
   ],
   "source": [
    "valid_error_array_copy = valid_error_array.copy()\n",
    "pq_err = set()\n",
    "\n",
    "for p in valid_error_array_copy[:,1]:\n",
    "    for q in valid_error_array_copy[:,2]:\n",
    "        curr_err = valid_error_array_copy[(valid_error_array_copy[:,1] == p) & (valid_error_array_copy[:,2] == q),:].copy()\n",
    "        if curr_err.size == 0:\n",
    "            continue\n",
    "        avg_err = np.average(curr_err[:,4])\n",
    "        pq_err.add((p,q,avg_err))\n",
    "pq_err"
   ]
  },
  {
   "cell_type": "code",
   "execution_count": 51,
   "metadata": {},
   "outputs": [
    {
     "data": {
      "text/plain": [
       "array([[0.        , 3.        , 0.0280775 ],\n",
       "       [1.        , 4.        , 0.03682999],\n",
       "       [1.        , 1.        , 0.01396602],\n",
       "       [2.        , 2.        , 0.01932233],\n",
       "       [3.        , 0.        , 0.02969574],\n",
       "       [3.        , 3.        , 0.03360129],\n",
       "       [4.        , 4.        , 0.09155539],\n",
       "       [4.        , 1.        , 0.03726267]])"
      ]
     },
     "execution_count": 51,
     "metadata": {},
     "output_type": "execute_result"
    }
   ],
   "source": [
    "pq_2d_err=np.zeros((len(pq_err),3))\n",
    "i = 0\n",
    "for el in pq_err:\n",
    "    for j in range(len(el)):\n",
    "        pq_2d_err[i,j] = el[j]\n",
    "    i += 1\n",
    "pq_2d_err=pq_2d_err[pq_2d_err[:,0].argsort()]\n",
    "pq_2d_err"
   ]
  },
  {
   "cell_type": "code",
   "execution_count": 55,
   "metadata": {},
   "outputs": [
    {
     "data": {
      "image/png": "[encoded data removed]",
      "text/plain": [
       "<Figure size 720x576 with 1 Axes>"
      ]
     },
     "metadata": {
      "needs_background": "light"
     },
     "output_type": "display_data"
    }
   ],
   "source": [
    "objects= []\n",
    "for i in range(pq_2d_err.shape[0]):\n",
    "    objects.append(str((pq_2d_err[i,0],pq_2d_err[i,1])))\n",
    "y_pos = np.arange(len(objects))\n",
    "er = pq_2d_err[:,2]*100\n",
    "\n",
    "plt.figure(figsize=(10,8))\n",
    "plt.bar(y_pos, er, align='center', alpha=0.5, edgecolor=\"black\", color=\"red\")\n",
    "plt.xticks(y_pos, objects)\n",
    "plt.ylabel('Percent Average Absolute Error Between Random and Calculated Weights ')\n",
    "plt.title('Analysis of Error between Weight Algorithm and True Random Walk')\n",
    "plt.ylim((0,15))\n",
    "plt.show()"
   ]
  },
  {
   "cell_type": "code",
   "execution_count": null,
   "metadata": {},
   "outputs": [],
   "source": []
  }
 ],
 "metadata": {
  "kernelspec": {
   "display_name": "Python 3",
   "language": "python",
   "name": "python3"
  },
  "language_info": {
   "codemirror_mode": {
    "name": "ipython",
    "version": 3
   },
   "file_extension": ".py",
   "mimetype": "text/x-python",
   "name": "python",
   "nbconvert_exporter": "python",
   "pygments_lexer": "ipython3",
   "version": "3.7.3"
  }
 },
 "nbformat": 4,
 "nbformat_minor": 2
}
